{
 "cells": [
  {
   "cell_type": "markdown",
   "id": "8c422132-8af5-4b8a-a21a-f533f5760a3e",
   "metadata": {},
   "source": [
    "# Data Science Tools and Ecosystem"
   ]
  },
  {
   "cell_type": "markdown",
   "id": "f9b388f2-7de4-45b0-b214-c0323eb6bc41",
   "metadata": {},
   "source": [
    "In this notebook, Data Science Tools and Ecosystem are summarized."
   ]
  },
  {
   "cell_type": "markdown",
   "id": "2d100382-019f-4a48-97d0-a420cd51328e",
   "metadata": {},
   "source": [
    "**Objectives:**\n",
    "* List popular languages for Data Science\n",
    "* List commonly used libraries in Data Science\n",
    "* List commonly used Data Science tools"
   ]
  },
  {
   "cell_type": "markdown",
   "id": "0f5da3bb-7920-4b21-84f2-9d26e0389a88",
   "metadata": {},
   "source": [
    "Some of the popular languages that Data Scientists use are:\n",
    "1. Python\n",
    "2. SQL\n",
    "3. R\n",
    "4. Julia"
   ]
  },
  {
   "cell_type": "markdown",
   "id": "fdb5d775-e8fc-4684-af30-06d775dccdb6",
   "metadata": {},
   "source": [
    "Some of the commonly used libraries used by Data Scientists include:\n",
    "1. Numpy\n",
    "2. Pandas\n",
    "3. Matplotlit\n",
    "4. Seaborn"
   ]
  },
  {
   "cell_type": "markdown",
   "id": "3bbf9a54-c3bb-4622-8d73-2d786f09bd18",
   "metadata": {},
   "source": [
    "| Data Science Tools |\n",
    "-\n",
    "| Jupyter Notebook |\n",
    "| Jupyter Lab |\n",
    "| Visual Studio |"
   ]
  },
  {
   "cell_type": "markdown",
   "id": "a485709f-8daf-4b3e-945b-bf7494cda40f",
   "metadata": {},
   "source": [
    "### Below are a few examples of evaluating arithmetic expressions in Python"
   ]
  },
  {
   "cell_type": "code",
   "execution_count": 4,
   "id": "a1587a63-d1bf-49f6-b04f-af0be1f6b02e",
   "metadata": {},
   "outputs": [
    {
     "data": {
      "text/plain": [
       "17"
      ]
     },
     "execution_count": 4,
     "metadata": {},
     "output_type": "execute_result"
    }
   ],
   "source": [
    "# This a simple arithmetic expression to mutiply then add integers\n",
    "(3*4)+5 "
   ]
  },
  {
   "cell_type": "code",
   "execution_count": 5,
   "id": "547ce348-e2ea-48f7-a161-763672e7325d",
   "metadata": {},
   "outputs": [
    {
     "data": {
      "text/plain": [
       "3.3333333333333335"
      ]
     },
     "execution_count": 5,
     "metadata": {},
     "output_type": "execute_result"
    }
   ],
   "source": [
    "# This will convert 200 minutes to hours by diving by 60\n",
    "200 / 60"
   ]
  },
  {
   "cell_type": "markdown",
   "id": "c95e1347-9d6b-4887-b094-8e8f170fd8f0",
   "metadata": {},
   "source": [
    "## Author \n",
    "Herman"
   ]
  },
  {
   "cell_type": "code",
   "execution_count": null,
   "id": "c3046e4d-2ad6-403d-b29e-57aecfd31e8e",
   "metadata": {},
   "outputs": [],
   "source": []
  }
 ],
 "metadata": {
  "kernelspec": {
   "display_name": "Python 3 (ipykernel)",
   "language": "python",
   "name": "python3"
  },
  "language_info": {
   "codemirror_mode": {
    "name": "ipython",
    "version": 3
   },
   "file_extension": ".py",
   "mimetype": "text/x-python",
   "name": "python",
   "nbconvert_exporter": "python",
   "pygments_lexer": "ipython3",
   "version": "3.11.5"
  }
 },
 "nbformat": 4,
 "nbformat_minor": 5
}
